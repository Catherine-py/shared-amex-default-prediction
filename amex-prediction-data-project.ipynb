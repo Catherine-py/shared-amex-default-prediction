{
 "cells": [
  {
   "cell_type": "code",
   "execution_count": 1,
   "id": "582ee462",
   "metadata": {
    "_cell_guid": "b1076dfc-b9ad-4769-8c92-a6c4dae69d19",
    "_uuid": "8f2839f25d086af736a60e9eeb907d3b93b6e0e5",
    "execution": {
     "iopub.execute_input": "2023-01-01T21:52:20.560488Z",
     "iopub.status.busy": "2023-01-01T21:52:20.560051Z",
     "iopub.status.idle": "2023-01-01T21:52:20.581283Z",
     "shell.execute_reply": "2023-01-01T21:52:20.579987Z"
    },
    "papermill": {
     "duration": 0.03199,
     "end_time": "2023-01-01T21:52:20.584053",
     "exception": false,
     "start_time": "2023-01-01T21:52:20.552063",
     "status": "completed"
    },
    "tags": []
   },
   "outputs": [
    {
     "name": "stdout",
     "output_type": "stream",
     "text": [
      "/kaggle/input/amex-default-prediction/sample_submission.csv\n",
      "/kaggle/input/amex-default-prediction/train_data.csv\n",
      "/kaggle/input/amex-default-prediction/test_data.csv\n",
      "/kaggle/input/amex-default-prediction/train_labels.csv\n",
      "/kaggle/input/amex-data-integer-dtypes-parquet-format/train.parquet\n",
      "/kaggle/input/amex-data-integer-dtypes-parquet-format/test.parquet\n"
     ]
    }
   ],
   "source": [
    "# This Python 3 environment comes with many helpful analytics libraries installed\n",
    "# It is defined by the kaggle/python Docker image: https://github.com/kaggle/docker-python\n",
    "# For example, here's several helpful packages to load\n",
    "\n",
    "import numpy as np # linear algebra\n",
    "import pandas as pd # data processing, CSV file I/O (e.g. pd.read_csv)\n",
    "import matplotlib.pyplot as plt, gc, os\n",
    "# Input data files are available in the read-only \"../input/\" directory\n",
    "# For example, running this (by clicking run or pressing Shift+Enter) will list all files under the input directory\n",
    "\n",
    "import os\n",
    "for dirname, _, filenames in os.walk('/kaggle/input'):\n",
    "    for filename in filenames:\n",
    "        print(os.path.join(dirname, filename))\n",
    "\n",
    "# You can write up to 20GB to the current directory (/kaggle/working/) that gets preserved as output when you create a version using \"Save & Run All\" \n",
    "# You can also write temporary files to /kaggle/temp/, but they won't be saved outside of the current session"
   ]
  },
  {
   "cell_type": "code",
   "execution_count": 2,
   "id": "9c90deb5",
   "metadata": {
    "execution": {
     "iopub.execute_input": "2023-01-01T21:52:20.595098Z",
     "iopub.status.busy": "2023-01-01T21:52:20.594685Z",
     "iopub.status.idle": "2023-01-01T21:52:25.869686Z",
     "shell.execute_reply": "2023-01-01T21:52:25.868793Z"
    },
    "papermill": {
     "duration": 5.283282,
     "end_time": "2023-01-01T21:52:25.872175",
     "exception": false,
     "start_time": "2023-01-01T21:52:20.588893",
     "status": "completed"
    },
    "tags": []
   },
   "outputs": [
    {
     "data": {
      "text/html": [
       "<style type='text/css'>\n",
       ".datatable table.frame { margin-bottom: 0; }\n",
       ".datatable table.frame thead { border-bottom: none; }\n",
       ".datatable table.frame tr.coltypes td {  color: #FFFFFF;  line-height: 6px;  padding: 0 0.5em;}\n",
       ".datatable .bool    { background: #DDDD99; }\n",
       ".datatable .object  { background: #565656; }\n",
       ".datatable .int     { background: #5D9E5D; }\n",
       ".datatable .float   { background: #4040CC; }\n",
       ".datatable .str     { background: #CC4040; }\n",
       ".datatable .time    { background: #40CC40; }\n",
       ".datatable .row_index {  background: var(--jp-border-color3);  border-right: 1px solid var(--jp-border-color0);  color: var(--jp-ui-font-color3);  font-size: 9px;}\n",
       ".datatable .frame tbody td { text-align: left; }\n",
       ".datatable .frame tr.coltypes .row_index {  background: var(--jp-border-color0);}\n",
       ".datatable th:nth-child(2) { padding-left: 12px; }\n",
       ".datatable .hellipsis {  color: var(--jp-cell-editor-border-color);}\n",
       ".datatable .vellipsis {  background: var(--jp-layout-color0);  color: var(--jp-cell-editor-border-color);}\n",
       ".datatable .na {  color: var(--jp-cell-editor-border-color);  font-size: 80%;}\n",
       ".datatable .sp {  opacity: 0.25;}\n",
       ".datatable .footer { font-size: 9px; }\n",
       ".datatable .frame_dimensions {  background: var(--jp-border-color3);  border-top: 1px solid var(--jp-border-color0);  color: var(--jp-ui-font-color3);  display: inline-block;  opacity: 0.6;  padding: 1px 10px 1px 5px;}\n",
       "</style>\n"
      ],
      "text/plain": [
       "<IPython.core.display.HTML object>"
      ]
     },
     "metadata": {},
     "output_type": "display_data"
    }
   ],
   "source": [
    "import os\n",
    "os.environ['TF_CPP_MIN_LOG_LEVEL'] = '3'\n",
    "import os\n",
    "import lightgbm\n",
    "import matplotlib.pyplot as plt\n",
    "import seaborn as sns\n",
    "import numpy as np\n",
    "import pandas as pd\n",
    "import warnings\n",
    "from xgboost import XGBClassifier\n",
    "from sklearn.preprocessing import LabelEncoder\n",
    "from sklearn.impute import SimpleImputer\n",
    "from sklearn.model_selection import cross_val_score\n",
    "from sklearn.metrics import confusion_matrix, classification_report, roc_curve, auc, RocCurveDisplay, accuracy_score\n",
    "import shap\n",
    "import itertools"
   ]
  },
  {
   "cell_type": "code",
   "execution_count": 3,
   "id": "94606966",
   "metadata": {
    "execution": {
     "iopub.execute_input": "2023-01-01T21:52:25.883785Z",
     "iopub.status.busy": "2023-01-01T21:52:25.883118Z",
     "iopub.status.idle": "2023-01-01T21:53:57.273672Z",
     "shell.execute_reply": "2023-01-01T21:53:57.272083Z"
    },
    "papermill": {
     "duration": 91.41347,
     "end_time": "2023-01-01T21:53:57.290768",
     "exception": false,
     "start_time": "2023-01-01T21:52:25.877298",
     "status": "completed"
    },
    "tags": []
   },
   "outputs": [
    {
     "data": {
      "text/html": [
       "<div>\n",
       "<style scoped>\n",
       "    .dataframe tbody tr th:only-of-type {\n",
       "        vertical-align: middle;\n",
       "    }\n",
       "\n",
       "    .dataframe tbody tr th {\n",
       "        vertical-align: top;\n",
       "    }\n",
       "\n",
       "    .dataframe thead th {\n",
       "        text-align: right;\n",
       "    }\n",
       "</style>\n",
       "<table border=\"1\" class=\"dataframe\">\n",
       "  <thead>\n",
       "    <tr style=\"text-align: right;\">\n",
       "      <th></th>\n",
       "      <th>customer_ID</th>\n",
       "      <th>S_2</th>\n",
       "      <th>P_2</th>\n",
       "      <th>D_39</th>\n",
       "      <th>B_1</th>\n",
       "      <th>B_2</th>\n",
       "      <th>R_1</th>\n",
       "      <th>S_3</th>\n",
       "      <th>D_41</th>\n",
       "      <th>B_3</th>\n",
       "      <th>...</th>\n",
       "      <th>D_136</th>\n",
       "      <th>D_137</th>\n",
       "      <th>D_138</th>\n",
       "      <th>D_139</th>\n",
       "      <th>D_140</th>\n",
       "      <th>D_141</th>\n",
       "      <th>D_142</th>\n",
       "      <th>D_143</th>\n",
       "      <th>D_144</th>\n",
       "      <th>D_145</th>\n",
       "    </tr>\n",
       "  </thead>\n",
       "  <tbody>\n",
       "    <tr>\n",
       "      <th>9</th>\n",
       "      <td>0000099d6bd597052cdcda90ffabf56573fe9d7c79be5f...</td>\n",
       "      <td>2017-12-04</td>\n",
       "      <td>0.868580</td>\n",
       "      <td>0</td>\n",
       "      <td>0.001930</td>\n",
       "      <td>1.007504</td>\n",
       "      <td>0.001772</td>\n",
       "      <td>0.100470</td>\n",
       "      <td>0.0</td>\n",
       "      <td>0.006073</td>\n",
       "      <td>...</td>\n",
       "      <td>-1</td>\n",
       "      <td>-1</td>\n",
       "      <td>-1</td>\n",
       "      <td>0</td>\n",
       "      <td>0</td>\n",
       "      <td>0.0</td>\n",
       "      <td>NaN</td>\n",
       "      <td>0</td>\n",
       "      <td>0.004753</td>\n",
       "      <td>0</td>\n",
       "    </tr>\n",
       "    <tr>\n",
       "      <th>10</th>\n",
       "      <td>0000099d6bd597052cdcda90ffabf56573fe9d7c79be5f...</td>\n",
       "      <td>2018-01-11</td>\n",
       "      <td>0.909811</td>\n",
       "      <td>0</td>\n",
       "      <td>0.002829</td>\n",
       "      <td>1.004798</td>\n",
       "      <td>0.008175</td>\n",
       "      <td>0.098882</td>\n",
       "      <td>0.0</td>\n",
       "      <td>0.003238</td>\n",
       "      <td>...</td>\n",
       "      <td>-1</td>\n",
       "      <td>-1</td>\n",
       "      <td>-1</td>\n",
       "      <td>0</td>\n",
       "      <td>0</td>\n",
       "      <td>0.0</td>\n",
       "      <td>NaN</td>\n",
       "      <td>0</td>\n",
       "      <td>0.003004</td>\n",
       "      <td>0</td>\n",
       "    </tr>\n",
       "    <tr>\n",
       "      <th>11</th>\n",
       "      <td>0000099d6bd597052cdcda90ffabf56573fe9d7c79be5f...</td>\n",
       "      <td>2018-02-21</td>\n",
       "      <td>0.937349</td>\n",
       "      <td>0</td>\n",
       "      <td>0.019837</td>\n",
       "      <td>1.008307</td>\n",
       "      <td>0.000607</td>\n",
       "      <td>0.102985</td>\n",
       "      <td>0.0</td>\n",
       "      <td>0.007454</td>\n",
       "      <td>...</td>\n",
       "      <td>-1</td>\n",
       "      <td>-1</td>\n",
       "      <td>-1</td>\n",
       "      <td>0</td>\n",
       "      <td>0</td>\n",
       "      <td>0.0</td>\n",
       "      <td>NaN</td>\n",
       "      <td>0</td>\n",
       "      <td>0.006346</td>\n",
       "      <td>0</td>\n",
       "    </tr>\n",
       "    <tr>\n",
       "      <th>12</th>\n",
       "      <td>0000099d6bd597052cdcda90ffabf56573fe9d7c79be5f...</td>\n",
       "      <td>2018-03-13</td>\n",
       "      <td>0.934745</td>\n",
       "      <td>0</td>\n",
       "      <td>0.009382</td>\n",
       "      <td>1.007647</td>\n",
       "      <td>0.006104</td>\n",
       "      <td>0.135021</td>\n",
       "      <td>0.0</td>\n",
       "      <td>0.007174</td>\n",
       "      <td>...</td>\n",
       "      <td>-1</td>\n",
       "      <td>-1</td>\n",
       "      <td>-1</td>\n",
       "      <td>0</td>\n",
       "      <td>0</td>\n",
       "      <td>0.0</td>\n",
       "      <td>NaN</td>\n",
       "      <td>0</td>\n",
       "      <td>0.002970</td>\n",
       "      <td>0</td>\n",
       "    </tr>\n",
       "    <tr>\n",
       "      <th>22</th>\n",
       "      <td>00000fd6641609c6ece5454664794f0340ad84dddce9a2...</td>\n",
       "      <td>2017-12-29</td>\n",
       "      <td>0.861109</td>\n",
       "      <td>10</td>\n",
       "      <td>0.006711</td>\n",
       "      <td>0.819772</td>\n",
       "      <td>0.007966</td>\n",
       "      <td>0.139138</td>\n",
       "      <td>0.0</td>\n",
       "      <td>0.005235</td>\n",
       "      <td>...</td>\n",
       "      <td>-1</td>\n",
       "      <td>-1</td>\n",
       "      <td>-1</td>\n",
       "      <td>0</td>\n",
       "      <td>0</td>\n",
       "      <td>0.0</td>\n",
       "      <td>NaN</td>\n",
       "      <td>0</td>\n",
       "      <td>0.003133</td>\n",
       "      <td>0</td>\n",
       "    </tr>\n",
       "  </tbody>\n",
       "</table>\n",
       "<p>5 rows × 190 columns</p>\n",
       "</div>"
      ],
      "text/plain": [
       "                                          customer_ID         S_2       P_2  \\\n",
       "9   0000099d6bd597052cdcda90ffabf56573fe9d7c79be5f...  2017-12-04  0.868580   \n",
       "10  0000099d6bd597052cdcda90ffabf56573fe9d7c79be5f...  2018-01-11  0.909811   \n",
       "11  0000099d6bd597052cdcda90ffabf56573fe9d7c79be5f...  2018-02-21  0.937349   \n",
       "12  0000099d6bd597052cdcda90ffabf56573fe9d7c79be5f...  2018-03-13  0.934745   \n",
       "22  00000fd6641609c6ece5454664794f0340ad84dddce9a2...  2017-12-29  0.861109   \n",
       "\n",
       "    D_39       B_1       B_2       R_1       S_3  D_41       B_3  ...  D_136  \\\n",
       "9      0  0.001930  1.007504  0.001772  0.100470   0.0  0.006073  ...     -1   \n",
       "10     0  0.002829  1.004798  0.008175  0.098882   0.0  0.003238  ...     -1   \n",
       "11     0  0.019837  1.008307  0.000607  0.102985   0.0  0.007454  ...     -1   \n",
       "12     0  0.009382  1.007647  0.006104  0.135021   0.0  0.007174  ...     -1   \n",
       "22    10  0.006711  0.819772  0.007966  0.139138   0.0  0.005235  ...     -1   \n",
       "\n",
       "    D_137  D_138  D_139  D_140  D_141  D_142  D_143     D_144  D_145  \n",
       "9      -1     -1      0      0    0.0    NaN      0  0.004753      0  \n",
       "10     -1     -1      0      0    0.0    NaN      0  0.003004      0  \n",
       "11     -1     -1      0      0    0.0    NaN      0  0.006346      0  \n",
       "12     -1     -1      0      0    0.0    NaN      0  0.002970      0  \n",
       "22     -1     -1      0      0    0.0    NaN      0  0.003133      0  \n",
       "\n",
       "[5 rows x 190 columns]"
      ]
     },
     "execution_count": 3,
     "metadata": {},
     "output_type": "execute_result"
    }
   ],
   "source": [
    "#Becaurse the files are too large to read,so use the parquet file format.\n",
    "train = pd.read_parquet(\"/kaggle/input/amex-data-integer-dtypes-parquet-format/train.parquet\").groupby('customer_ID').tail(4)\n",
    "test = pd.read_parquet(\"/kaggle/input/amex-data-integer-dtypes-parquet-format/test.parquet\").groupby('customer_ID').tail(4)\n",
    "train_labels = pd.read_csv(\"../input/amex-default-prediction/train_labels.csv\")\n",
    "train.head()"
   ]
  },
  {
   "cell_type": "code",
   "execution_count": 4,
   "id": "f9bf93bd",
   "metadata": {
    "execution": {
     "iopub.execute_input": "2023-01-01T21:53:57.305214Z",
     "iopub.status.busy": "2023-01-01T21:53:57.304767Z",
     "iopub.status.idle": "2023-01-01T21:53:57.312736Z",
     "shell.execute_reply": "2023-01-01T21:53:57.311789Z"
    },
    "papermill": {
     "duration": 0.018258,
     "end_time": "2023-01-01T21:53:57.315003",
     "exception": false,
     "start_time": "2023-01-01T21:53:57.296745",
     "status": "completed"
    },
    "tags": []
   },
   "outputs": [
    {
     "data": {
      "text/plain": [
       "((1802318, 190), (3656852, 190), (458913, 2))"
      ]
     },
     "execution_count": 4,
     "metadata": {},
     "output_type": "execute_result"
    }
   ],
   "source": [
    "#shapes\n",
    "train.shape, test.shape, train_labels.shape"
   ]
  },
  {
   "cell_type": "code",
   "execution_count": 5,
   "id": "b726b739",
   "metadata": {
    "execution": {
     "iopub.execute_input": "2023-01-01T21:53:57.329832Z",
     "iopub.status.busy": "2023-01-01T21:53:57.328804Z",
     "iopub.status.idle": "2023-01-01T21:53:57.336165Z",
     "shell.execute_reply": "2023-01-01T21:53:57.334710Z"
    },
    "papermill": {
     "duration": 0.017752,
     "end_time": "2023-01-01T21:53:57.339466",
     "exception": false,
     "start_time": "2023-01-01T21:53:57.321714",
     "status": "completed"
    },
    "tags": []
   },
   "outputs": [
    {
     "name": "stdout",
     "output_type": "stream",
     "text": [
      "Number of row:1802318\n",
      "Number of column:190\n"
     ]
    }
   ],
   "source": [
    "print('Number of row:'+str(len(train)))\n",
    "print('Number of column:'+str(len(train.columns)))"
   ]
  },
  {
   "cell_type": "code",
   "execution_count": 6,
   "id": "4cacc4dc",
   "metadata": {
    "execution": {
     "iopub.execute_input": "2023-01-01T21:53:57.353936Z",
     "iopub.status.busy": "2023-01-01T21:53:57.353000Z",
     "iopub.status.idle": "2023-01-01T21:54:08.056266Z",
     "shell.execute_reply": "2023-01-01T21:54:08.055038Z"
    },
    "papermill": {
     "duration": 10.713241,
     "end_time": "2023-01-01T21:54:08.059179",
     "exception": false,
     "start_time": "2023-01-01T21:53:57.345938",
     "status": "completed"
    },
    "tags": []
   },
   "outputs": [
    {
     "data": {
      "text/html": [
       "<div>\n",
       "<style scoped>\n",
       "    .dataframe tbody tr th:only-of-type {\n",
       "        vertical-align: middle;\n",
       "    }\n",
       "\n",
       "    .dataframe tbody tr th {\n",
       "        vertical-align: top;\n",
       "    }\n",
       "\n",
       "    .dataframe thead th {\n",
       "        text-align: right;\n",
       "    }\n",
       "</style>\n",
       "<table border=\"1\" class=\"dataframe\">\n",
       "  <thead>\n",
       "    <tr style=\"text-align: right;\">\n",
       "      <th></th>\n",
       "      <th>P_2</th>\n",
       "      <th>D_39</th>\n",
       "      <th>B_1</th>\n",
       "      <th>B_2</th>\n",
       "      <th>R_1</th>\n",
       "      <th>S_3</th>\n",
       "      <th>D_41</th>\n",
       "      <th>B_3</th>\n",
       "      <th>D_42</th>\n",
       "      <th>D_43</th>\n",
       "      <th>...</th>\n",
       "      <th>D_136</th>\n",
       "      <th>D_137</th>\n",
       "      <th>D_138</th>\n",
       "      <th>D_139</th>\n",
       "      <th>D_140</th>\n",
       "      <th>D_141</th>\n",
       "      <th>D_142</th>\n",
       "      <th>D_143</th>\n",
       "      <th>D_144</th>\n",
       "      <th>D_145</th>\n",
       "    </tr>\n",
       "  </thead>\n",
       "  <tbody>\n",
       "    <tr>\n",
       "      <th>count</th>\n",
       "      <td>1.788975e+06</td>\n",
       "      <td>1.802318e+06</td>\n",
       "      <td>1.802318e+06</td>\n",
       "      <td>1.801953e+06</td>\n",
       "      <td>1.802318e+06</td>\n",
       "      <td>1.474135e+06</td>\n",
       "      <td>1.801953e+06</td>\n",
       "      <td>1.801953e+06</td>\n",
       "      <td>244122.000000</td>\n",
       "      <td>1.272657e+06</td>\n",
       "      <td>...</td>\n",
       "      <td>1.802318e+06</td>\n",
       "      <td>1.802318e+06</td>\n",
       "      <td>1.802318e+06</td>\n",
       "      <td>1.802318e+06</td>\n",
       "      <td>1.802318e+06</td>\n",
       "      <td>1.769701e+06</td>\n",
       "      <td>310496.000000</td>\n",
       "      <td>1.802318e+06</td>\n",
       "      <td>1.801179e+06</td>\n",
       "      <td>1.802318e+06</td>\n",
       "    </tr>\n",
       "    <tr>\n",
       "      <th>mean</th>\n",
       "      <td>6.411824e-01</td>\n",
       "      <td>5.795876e+00</td>\n",
       "      <td>1.355018e-01</td>\n",
       "      <td>5.991593e-01</td>\n",
       "      <td>9.770583e-02</td>\n",
       "      <td>2.307265e-01</td>\n",
       "      <td>7.299108e-02</td>\n",
       "      <td>1.495153e-01</td>\n",
       "      <td>0.180821</td>\n",
       "      <td>1.615884e-01</td>\n",
       "      <td>...</td>\n",
       "      <td>-9.245344e-01</td>\n",
       "      <td>-9.616677e-01</td>\n",
       "      <td>-9.509687e-01</td>\n",
       "      <td>1.541842e-01</td>\n",
       "      <td>2.306419e-02</td>\n",
       "      <td>1.617967e-01</td>\n",
       "      <td>0.392772</td>\n",
       "      <td>1.540855e-01</td>\n",
       "      <td>5.163485e-02</td>\n",
       "      <td>6.143194e-01</td>\n",
       "    </tr>\n",
       "    <tr>\n",
       "      <th>std</th>\n",
       "      <td>2.588934e-01</td>\n",
       "      <td>1.088725e+01</td>\n",
       "      <td>2.250991e-01</td>\n",
       "      <td>4.095068e-01</td>\n",
       "      <td>2.588383e-01</td>\n",
       "      <td>1.995605e-01</td>\n",
       "      <td>2.490946e-01</td>\n",
       "      <td>2.512022e-01</td>\n",
       "      <td>0.248118</td>\n",
       "      <td>2.247142e-01</td>\n",
       "      <td>...</td>\n",
       "      <td>4.128786e-01</td>\n",
       "      <td>1.936461e-01</td>\n",
       "      <td>2.664026e-01</td>\n",
       "      <td>4.081740e-01</td>\n",
       "      <td>1.542601e-01</td>\n",
       "      <td>3.513826e-01</td>\n",
       "      <td>0.240538</td>\n",
       "      <td>4.080903e-01</td>\n",
       "      <td>1.811209e-01</td>\n",
       "      <td>2.153483e+00</td>\n",
       "    </tr>\n",
       "    <tr>\n",
       "      <th>min</th>\n",
       "      <td>-4.589548e-01</td>\n",
       "      <td>0.000000e+00</td>\n",
       "      <td>-7.588799e+00</td>\n",
       "      <td>9.192280e-09</td>\n",
       "      <td>3.240394e-09</td>\n",
       "      <td>-5.088831e-01</td>\n",
       "      <td>0.000000e+00</td>\n",
       "      <td>1.028956e-08</td>\n",
       "      <td>-0.000332</td>\n",
       "      <td>5.429255e-07</td>\n",
       "      <td>...</td>\n",
       "      <td>-1.000000e+00</td>\n",
       "      <td>-1.000000e+00</td>\n",
       "      <td>-1.000000e+00</td>\n",
       "      <td>-1.000000e+00</td>\n",
       "      <td>-1.000000e+00</td>\n",
       "      <td>0.000000e+00</td>\n",
       "      <td>-0.014539</td>\n",
       "      <td>-1.000000e+00</td>\n",
       "      <td>4.701217e-09</td>\n",
       "      <td>-1.000000e+00</td>\n",
       "    </tr>\n",
       "    <tr>\n",
       "      <th>25%</th>\n",
       "      <td>4.577217e-01</td>\n",
       "      <td>0.000000e+00</td>\n",
       "      <td>9.085041e-03</td>\n",
       "      <td>7.808472e-02</td>\n",
       "      <td>2.978019e-03</td>\n",
       "      <td>1.282375e-01</td>\n",
       "      <td>0.000000e+00</td>\n",
       "      <td>5.390869e-03</td>\n",
       "      <td>0.033292</td>\n",
       "      <td>4.301413e-02</td>\n",
       "      <td>...</td>\n",
       "      <td>-1.000000e+00</td>\n",
       "      <td>-1.000000e+00</td>\n",
       "      <td>-1.000000e+00</td>\n",
       "      <td>0.000000e+00</td>\n",
       "      <td>0.000000e+00</td>\n",
       "      <td>0.000000e+00</td>\n",
       "      <td>0.197211</td>\n",
       "      <td>0.000000e+00</td>\n",
       "      <td>2.749411e-03</td>\n",
       "      <td>0.000000e+00</td>\n",
       "    </tr>\n",
       "    <tr>\n",
       "      <th>50%</th>\n",
       "      <td>6.841134e-01</td>\n",
       "      <td>0.000000e+00</td>\n",
       "      <td>3.435712e-02</td>\n",
       "      <td>8.136464e-01</td>\n",
       "      <td>5.954595e-03</td>\n",
       "      <td>1.652470e-01</td>\n",
       "      <td>0.000000e+00</td>\n",
       "      <td>1.029428e-02</td>\n",
       "      <td>0.113116</td>\n",
       "      <td>9.156333e-02</td>\n",
       "      <td>...</td>\n",
       "      <td>-1.000000e+00</td>\n",
       "      <td>-1.000000e+00</td>\n",
       "      <td>-1.000000e+00</td>\n",
       "      <td>0.000000e+00</td>\n",
       "      <td>0.000000e+00</td>\n",
       "      <td>0.000000e+00</td>\n",
       "      <td>0.385020</td>\n",
       "      <td>0.000000e+00</td>\n",
       "      <td>5.499610e-03</td>\n",
       "      <td>0.000000e+00</td>\n",
       "    </tr>\n",
       "    <tr>\n",
       "      <th>75%</th>\n",
       "      <td>8.616738e-01</td>\n",
       "      <td>8.000000e+00</td>\n",
       "      <td>1.474703e-01</td>\n",
       "      <td>1.002090e+00</td>\n",
       "      <td>8.919717e-03</td>\n",
       "      <td>2.670320e-01</td>\n",
       "      <td>0.000000e+00</td>\n",
       "      <td>1.965373e-01</td>\n",
       "      <td>0.237627</td>\n",
       "      <td>1.925332e-01</td>\n",
       "      <td>...</td>\n",
       "      <td>-1.000000e+00</td>\n",
       "      <td>-1.000000e+00</td>\n",
       "      <td>-1.000000e+00</td>\n",
       "      <td>0.000000e+00</td>\n",
       "      <td>0.000000e+00</td>\n",
       "      <td>0.000000e+00</td>\n",
       "      <td>0.571261</td>\n",
       "      <td>0.000000e+00</td>\n",
       "      <td>8.243219e-03</td>\n",
       "      <td>0.000000e+00</td>\n",
       "    </tr>\n",
       "    <tr>\n",
       "      <th>max</th>\n",
       "      <td>1.010000e+00</td>\n",
       "      <td>1.820000e+02</td>\n",
       "      <td>1.324060e+00</td>\n",
       "      <td>1.010000e+00</td>\n",
       "      <td>3.008229e+00</td>\n",
       "      <td>4.882418e+00</td>\n",
       "      <td>8.988807e+00</td>\n",
       "      <td>1.625262e+00</td>\n",
       "      <td>4.191119</td>\n",
       "      <td>1.011162e+01</td>\n",
       "      <td>...</td>\n",
       "      <td>7.000000e+00</td>\n",
       "      <td>1.000000e+00</td>\n",
       "      <td>6.000000e+00</td>\n",
       "      <td>1.000000e+00</td>\n",
       "      <td>1.000000e+00</td>\n",
       "      <td>1.339910e+00</td>\n",
       "      <td>2.229368</td>\n",
       "      <td>1.000000e+00</td>\n",
       "      <td>1.343326e+00</td>\n",
       "      <td>5.300000e+01</td>\n",
       "    </tr>\n",
       "  </tbody>\n",
       "</table>\n",
       "<p>8 rows × 188 columns</p>\n",
       "</div>"
      ],
      "text/plain": [
       "                P_2          D_39           B_1           B_2           R_1  \\\n",
       "count  1.788975e+06  1.802318e+06  1.802318e+06  1.801953e+06  1.802318e+06   \n",
       "mean   6.411824e-01  5.795876e+00  1.355018e-01  5.991593e-01  9.770583e-02   \n",
       "std    2.588934e-01  1.088725e+01  2.250991e-01  4.095068e-01  2.588383e-01   \n",
       "min   -4.589548e-01  0.000000e+00 -7.588799e+00  9.192280e-09  3.240394e-09   \n",
       "25%    4.577217e-01  0.000000e+00  9.085041e-03  7.808472e-02  2.978019e-03   \n",
       "50%    6.841134e-01  0.000000e+00  3.435712e-02  8.136464e-01  5.954595e-03   \n",
       "75%    8.616738e-01  8.000000e+00  1.474703e-01  1.002090e+00  8.919717e-03   \n",
       "max    1.010000e+00  1.820000e+02  1.324060e+00  1.010000e+00  3.008229e+00   \n",
       "\n",
       "                S_3          D_41           B_3           D_42          D_43  \\\n",
       "count  1.474135e+06  1.801953e+06  1.801953e+06  244122.000000  1.272657e+06   \n",
       "mean   2.307265e-01  7.299108e-02  1.495153e-01       0.180821  1.615884e-01   \n",
       "std    1.995605e-01  2.490946e-01  2.512022e-01       0.248118  2.247142e-01   \n",
       "min   -5.088831e-01  0.000000e+00  1.028956e-08      -0.000332  5.429255e-07   \n",
       "25%    1.282375e-01  0.000000e+00  5.390869e-03       0.033292  4.301413e-02   \n",
       "50%    1.652470e-01  0.000000e+00  1.029428e-02       0.113116  9.156333e-02   \n",
       "75%    2.670320e-01  0.000000e+00  1.965373e-01       0.237627  1.925332e-01   \n",
       "max    4.882418e+00  8.988807e+00  1.625262e+00       4.191119  1.011162e+01   \n",
       "\n",
       "       ...         D_136         D_137         D_138         D_139  \\\n",
       "count  ...  1.802318e+06  1.802318e+06  1.802318e+06  1.802318e+06   \n",
       "mean   ... -9.245344e-01 -9.616677e-01 -9.509687e-01  1.541842e-01   \n",
       "std    ...  4.128786e-01  1.936461e-01  2.664026e-01  4.081740e-01   \n",
       "min    ... -1.000000e+00 -1.000000e+00 -1.000000e+00 -1.000000e+00   \n",
       "25%    ... -1.000000e+00 -1.000000e+00 -1.000000e+00  0.000000e+00   \n",
       "50%    ... -1.000000e+00 -1.000000e+00 -1.000000e+00  0.000000e+00   \n",
       "75%    ... -1.000000e+00 -1.000000e+00 -1.000000e+00  0.000000e+00   \n",
       "max    ...  7.000000e+00  1.000000e+00  6.000000e+00  1.000000e+00   \n",
       "\n",
       "              D_140         D_141          D_142         D_143         D_144  \\\n",
       "count  1.802318e+06  1.769701e+06  310496.000000  1.802318e+06  1.801179e+06   \n",
       "mean   2.306419e-02  1.617967e-01       0.392772  1.540855e-01  5.163485e-02   \n",
       "std    1.542601e-01  3.513826e-01       0.240538  4.080903e-01  1.811209e-01   \n",
       "min   -1.000000e+00  0.000000e+00      -0.014539 -1.000000e+00  4.701217e-09   \n",
       "25%    0.000000e+00  0.000000e+00       0.197211  0.000000e+00  2.749411e-03   \n",
       "50%    0.000000e+00  0.000000e+00       0.385020  0.000000e+00  5.499610e-03   \n",
       "75%    0.000000e+00  0.000000e+00       0.571261  0.000000e+00  8.243219e-03   \n",
       "max    1.000000e+00  1.339910e+00       2.229368  1.000000e+00  1.343326e+00   \n",
       "\n",
       "              D_145  \n",
       "count  1.802318e+06  \n",
       "mean   6.143194e-01  \n",
       "std    2.153483e+00  \n",
       "min   -1.000000e+00  \n",
       "25%    0.000000e+00  \n",
       "50%    0.000000e+00  \n",
       "75%    0.000000e+00  \n",
       "max    5.300000e+01  \n",
       "\n",
       "[8 rows x 188 columns]"
      ]
     },
     "execution_count": 6,
     "metadata": {},
     "output_type": "execute_result"
    }
   ],
   "source": [
    "train.describe()"
   ]
  },
  {
   "cell_type": "code",
   "execution_count": 7,
   "id": "d9cafe8b",
   "metadata": {
    "execution": {
     "iopub.execute_input": "2023-01-01T21:54:08.072878Z",
     "iopub.status.busy": "2023-01-01T21:54:08.072187Z",
     "iopub.status.idle": "2023-01-01T21:54:09.088400Z",
     "shell.execute_reply": "2023-01-01T21:54:09.087372Z"
    },
    "papermill": {
     "duration": 1.027057,
     "end_time": "2023-01-01T21:54:09.092186",
     "exception": false,
     "start_time": "2023-01-01T21:54:08.065129",
     "status": "completed"
    },
    "tags": []
   },
   "outputs": [
    {
     "name": "stdout",
     "output_type": "stream",
     "text": [
      "/nCount total NaN at each column in a DataFrame: /n/n customer_ID          0\n",
      "S_2                  0\n",
      "P_2              13343\n",
      "D_39                 0\n",
      "B_1                  0\n",
      "                ...   \n",
      "D_141            32617\n",
      "D_142          1491822\n",
      "D_143                0\n",
      "D_144             1139\n",
      "D_145                0\n",
      "Length: 190, dtype: int64\n"
     ]
    }
   ],
   "source": [
    "#count NaN or missing values in the DataFrame\n",
    "print('/nCount total NaN at each column in a DataFrame: /n/n',train.isnull().sum())"
   ]
  },
  {
   "cell_type": "code",
   "execution_count": 8,
   "id": "5398b9c0",
   "metadata": {
    "execution": {
     "iopub.execute_input": "2023-01-01T21:54:09.106389Z",
     "iopub.status.busy": "2023-01-01T21:54:09.106017Z",
     "iopub.status.idle": "2023-01-01T21:54:09.782424Z",
     "shell.execute_reply": "2023-01-01T21:54:09.781387Z"
    },
    "papermill": {
     "duration": 0.685986,
     "end_time": "2023-01-01T21:54:09.785072",
     "exception": false,
     "start_time": "2023-01-01T21:54:09.099086",
     "status": "completed"
    },
    "tags": []
   },
   "outputs": [],
   "source": [
    "#Columns that have more than 50% of missing values\n",
    "columns=train.columns[(train.isna().sum()/len(train))*100>50]"
   ]
  },
  {
   "cell_type": "code",
   "execution_count": 9,
   "id": "4f5e353c",
   "metadata": {
    "execution": {
     "iopub.execute_input": "2023-01-01T21:54:09.798271Z",
     "iopub.status.busy": "2023-01-01T21:54:09.797872Z",
     "iopub.status.idle": "2023-01-01T21:54:11.917467Z",
     "shell.execute_reply": "2023-01-01T21:54:11.916426Z"
    },
    "papermill": {
     "duration": 2.1292,
     "end_time": "2023-01-01T21:54:11.920134",
     "exception": false,
     "start_time": "2023-01-01T21:54:09.790934",
     "status": "completed"
    },
    "tags": []
   },
   "outputs": [],
   "source": [
    "#Drop the columns which have more than 50% of missing values.\n",
    "train = train.drop(columns, axis=1)\n",
    "test = test.drop(columns, axis=1)"
   ]
  },
  {
   "cell_type": "code",
   "execution_count": 10,
   "id": "bb7147a8",
   "metadata": {
    "execution": {
     "iopub.execute_input": "2023-01-01T21:54:11.933748Z",
     "iopub.status.busy": "2023-01-01T21:54:11.933362Z",
     "iopub.status.idle": "2023-01-01T21:54:18.042032Z",
     "shell.execute_reply": "2023-01-01T21:54:18.040902Z"
    },
    "papermill": {
     "duration": 6.118779,
     "end_time": "2023-01-01T21:54:18.044902",
     "exception": false,
     "start_time": "2023-01-01T21:54:11.926123",
     "status": "completed"
    },
    "tags": []
   },
   "outputs": [],
   "source": [
    "#fill the missing values, replace the null values with the values from the next or previous row. \n",
    "train = train.bfill(axis='rows').ffill(axis='rows')\n",
    "test = test.bfill(axis='rows').ffill(axis='rows')"
   ]
  },
  {
   "cell_type": "code",
   "execution_count": 11,
   "id": "9826f438",
   "metadata": {
    "execution": {
     "iopub.execute_input": "2023-01-01T21:54:18.058368Z",
     "iopub.status.busy": "2023-01-01T21:54:18.057971Z",
     "iopub.status.idle": "2023-01-01T21:54:18.075168Z",
     "shell.execute_reply": "2023-01-01T21:54:18.074178Z"
    },
    "papermill": {
     "duration": 0.026897,
     "end_time": "2023-01-01T21:54:18.077828",
     "exception": false,
     "start_time": "2023-01-01T21:54:18.050931",
     "status": "completed"
    },
    "tags": []
   },
   "outputs": [],
   "source": [
    "train.reset_index(inplace=True)\n",
    "test.reset_index(inplace=True)"
   ]
  },
  {
   "cell_type": "code",
   "execution_count": 12,
   "id": "07a08d92",
   "metadata": {
    "execution": {
     "iopub.execute_input": "2023-01-01T21:54:18.091517Z",
     "iopub.status.busy": "2023-01-01T21:54:18.090537Z",
     "iopub.status.idle": "2023-01-01T21:54:21.625123Z",
     "shell.execute_reply": "2023-01-01T21:54:21.623929Z"
    },
    "papermill": {
     "duration": 3.544378,
     "end_time": "2023-01-01T21:54:21.628049",
     "exception": false,
     "start_time": "2023-01-01T21:54:18.083671",
     "status": "completed"
    },
    "tags": []
   },
   "outputs": [],
   "source": [
    "train =train.groupby('customer_ID').tail(1)\n",
    "test = test.groupby('customer_ID').tail(1)"
   ]
  },
  {
   "cell_type": "code",
   "execution_count": 13,
   "id": "ebebd9c7",
   "metadata": {
    "execution": {
     "iopub.execute_input": "2023-01-01T21:54:21.644505Z",
     "iopub.status.busy": "2023-01-01T21:54:21.644097Z",
     "iopub.status.idle": "2023-01-01T21:54:21.650222Z",
     "shell.execute_reply": "2023-01-01T21:54:21.648971Z"
    },
    "papermill": {
     "duration": 0.015606,
     "end_time": "2023-01-01T21:54:21.652525",
     "exception": false,
     "start_time": "2023-01-01T21:54:21.636919",
     "status": "completed"
    },
    "tags": []
   },
   "outputs": [],
   "source": [
    "#Make the changes permanent\n",
    "train.reset_index(drop=True, inplace=True)\n",
    "test.reset_index(drop=True, inplace=True)"
   ]
  },
  {
   "cell_type": "code",
   "execution_count": 14,
   "id": "33197b03",
   "metadata": {
    "execution": {
     "iopub.execute_input": "2023-01-01T21:54:21.665967Z",
     "iopub.status.busy": "2023-01-01T21:54:21.665584Z",
     "iopub.status.idle": "2023-01-01T21:54:21.672787Z",
     "shell.execute_reply": "2023-01-01T21:54:21.671725Z"
    },
    "papermill": {
     "duration": 0.016314,
     "end_time": "2023-01-01T21:54:21.674820",
     "exception": false,
     "start_time": "2023-01-01T21:54:21.658506",
     "status": "completed"
    },
    "tags": []
   },
   "outputs": [
    {
     "data": {
      "text/plain": [
       "((458913, 174), (458913, 2), (924621, 174))"
      ]
     },
     "execution_count": 14,
     "metadata": {},
     "output_type": "execute_result"
    }
   ],
   "source": [
    "#shape\n",
    "train.shape, train_labels.shape, test.shape"
   ]
  },
  {
   "cell_type": "code",
   "execution_count": 15,
   "id": "a44f684f",
   "metadata": {
    "execution": {
     "iopub.execute_input": "2023-01-01T21:54:21.688774Z",
     "iopub.status.busy": "2023-01-01T21:54:21.687747Z",
     "iopub.status.idle": "2023-01-01T21:54:21.803821Z",
     "shell.execute_reply": "2023-01-01T21:54:21.802299Z"
    },
    "papermill": {
     "duration": 0.127414,
     "end_time": "2023-01-01T21:54:21.808022",
     "exception": false,
     "start_time": "2023-01-01T21:54:21.680608",
     "status": "completed"
    },
    "tags": []
   },
   "outputs": [
    {
     "name": "stdout",
     "output_type": "stream",
     "text": [
      "[ 0  1  2 -1]\n",
      "[ 0  1  2 -1]\n",
      "[ 2  1  3  7  5  6  4 -1]\n",
      "[ 2  3  6  1  7  5  4 -1]\n",
      "[ 1  0 -1]\n",
      "[ 0  1 -1]\n",
      "[ 0 -1  1]\n",
      "[ 0 -1  1]\n",
      "[ 5  0  7  2  3  6  4 -1]\n",
      "[ 0  4  5  3  7  6 -1  2]\n",
      "[ 0  1 -1]\n",
      "[ 1  0 -1]\n",
      "[2 1]\n",
      "[1 2]\n",
      "[0 3 4 5 1 2]\n",
      "[0 3 4 2 1 5]\n",
      "[ 0  2  3 -1]\n",
      "[ 3  0  2 -1]\n",
      "[-1  1]\n",
      "[-1  1]\n",
      "[ 6  3  5  4  2  1 -1]\n",
      "[ 6  4  5  2  1  3 -1]\n"
     ]
    }
   ],
   "source": [
    "#Find the unique values which only appear once in the categorical columns.\n",
    "categorical_col = ['B_30', 'B_38', 'D_114', 'D_116', 'D_117', 'D_120', 'D_126', 'D_63', 'D_64', 'D_66', 'D_68']\n",
    "for col in categorical_col:\n",
    "    print(train[col].unique())\n",
    "    print(test[col].unique())"
   ]
  },
  {
   "cell_type": "code",
   "execution_count": 16,
   "id": "0f2dd364",
   "metadata": {
    "execution": {
     "iopub.execute_input": "2023-01-01T21:54:21.822342Z",
     "iopub.status.busy": "2023-01-01T21:54:21.821889Z",
     "iopub.status.idle": "2023-01-01T21:54:21.886743Z",
     "shell.execute_reply": "2023-01-01T21:54:21.885405Z"
    },
    "papermill": {
     "duration": 0.075248,
     "end_time": "2023-01-01T21:54:21.889709",
     "exception": false,
     "start_time": "2023-01-01T21:54:21.814461",
     "status": "completed"
    },
    "tags": []
   },
   "outputs": [],
   "source": [
    "#Visualizing Target\n",
    "sns.countplot?"
   ]
  }
 ],
 "metadata": {
  "kernelspec": {
   "display_name": "Python 3",
   "language": "python",
   "name": "python3"
  },
  "language_info": {
   "codemirror_mode": {
    "name": "ipython",
    "version": 3
   },
   "file_extension": ".py",
   "mimetype": "text/x-python",
   "name": "python",
   "nbconvert_exporter": "python",
   "pygments_lexer": "ipython3",
   "version": "3.7.12"
  },
  "papermill": {
   "default_parameters": {},
   "duration": 130.917618,
   "end_time": "2023-01-01T21:54:23.221069",
   "environment_variables": {},
   "exception": null,
   "input_path": "__notebook__.ipynb",
   "output_path": "__notebook__.ipynb",
   "parameters": {},
   "start_time": "2023-01-01T21:52:12.303451",
   "version": "2.3.4"
  }
 },
 "nbformat": 4,
 "nbformat_minor": 5
}
